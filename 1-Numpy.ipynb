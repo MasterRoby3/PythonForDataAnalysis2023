{
 "cells": [
  {
   "cell_type": "markdown",
   "metadata": {},
   "source": [
    "# Numpy\n",
    "\n",
    "Negli studi di data analysis o comunque dove è necessario gestire grandi quantità di dati, l'efficienza nella memorizzazione e nei calcoli effettuati è fondamentale. Le strutture dati built-in di python tendono ad essere eccessivamente lente e pesanti per calcoli che interessano molti dati, per questo si rende necessario l'utilizzo di apposite librerie. Questo notebook tratterà la libreria ```numpy``` (cioè NumPy, che sta per *Numerical Python*)."
   ]
  },
  {
   "cell_type": "markdown",
   "metadata": {},
   "source": [
    "Iniziamo con l'importare la libreria e controllare la versione (se state lavorando in locale e non è installata, installatela eseguendo ```pip install numpy```)"
   ]
  },
  {
   "cell_type": "code",
   "execution_count": null,
   "metadata": {},
   "outputs": [],
   "source": [
    "import numpy as np\n",
    "np.__version__"
   ]
  },
  {
   "cell_type": "markdown",
   "metadata": {},
   "source": [
    "Un modo semplice per mostrare la documentazione built-in di ```numpy``` è:"
   ]
  },
  {
   "cell_type": "code",
   "execution_count": null,
   "metadata": {},
   "outputs": [],
   "source": [
    "np?"
   ]
  },
  {
   "cell_type": "code",
   "execution_count": null,
   "metadata": {},
   "outputs": [],
   "source": [
    "# Funziona anche per vedere la documentazione di singole funzioni:\n",
    "np.array?"
   ]
  },
  {
   "cell_type": "markdown",
   "metadata": {},
   "source": [
    "## Introduzione\n",
    "### Data-types\n",
    "La prima differenza sostanziale tra una struttura dati built-in in python (come la lista) e un array ```numpy``` sta proprio nell'impronta di memoria che essi hanno.\n",
    "Dato che python è un linguaggio *dinamically-typed* (i.e. non ha un insieme di tipi definibili dal programmatore, ma il tipo della singola variabile è dedotto in fase di esecuzione), ogni variabile è composta da 4 parti:\n",
    "* una reference alla posizione in memoria\n",
    "* il tipo della variabile\n",
    "* la dimensione della variabile\n",
    "* l'effettivo contenuto della variabile\n",
    "\n",
    "Quindi una lista python, per ogni valore, contiene 4 campi come definiti sopra.\n",
    "In data analysis, dove (quasi sempre) si conosce a priori il tipo di dato, tutte queste informazioni non sono necessarie e incerementano solamente l'impronta di memoria: gli array di ```numpy```, avendo un tipo definito, risolvono proprio questo problema."
   ]
  },
  {
   "cell_type": "markdown",
   "metadata": {},
   "source": [
    "Cerchiamo innanzitutto di identificare questa differenza di memoria, dichiarando una lista python e un array numpy con gli stessi contenuti e confrontiamone le dimensioni:"
   ]
  },
  {
   "cell_type": "code",
   "execution_count": null,
   "metadata": {},
   "outputs": [],
   "source": [
    "L = [1, 2, 3, 4]\n",
    "\n",
    "# così si dichiara un array di tipo numpy con il contenuto della lista L\n",
    "L_numpy = np.array(L)\n",
    "\n",
    "import sys\n",
    "print(\"Dimensione della lista python: \", sys.getsizeof(L))\n",
    "print(\"Dimensione dell'array numpy: \", sys.getsizeof(L_numpy))"
   ]
  },
  {
   "cell_type": "markdown",
   "metadata": {},
   "source": [
    "I risultati ottenuti non hanno molto senso... Perché?\n",
    "Perché sia l'array numpy che la lista python sono **oggetti** e la funzione ```sis.getsizeof()``` ritorna la dimensione in byte dell'oggetto, compreso tutto l'overhead che la definizione di un oggetto si porta dietro.\n",
    "Inoltre, come si legge chiaramente nella documentazione, ```sys.getsizeof()``` include solo la memoria occupata dalle reference all'attuale contenuto dell'oggetto, non l'effettiva memoria occupata dal contenuto.\n",
    "Quindi, per capire la dimensione effettiva di una lista python, bisogna esplorare ricorsivamente la dimensione di tutti i membri e sommare i valori ottenuti."
   ]
  },
  {
   "cell_type": "code",
   "execution_count": null,
   "metadata": {},
   "outputs": [],
   "source": [
    "dim_list = 0\n",
    "\n",
    "for item in L:\n",
    "    dim_list += sys.getsizeof(item)\n",
    "\n",
    "print(\"Dimensione totale contenuto lista python: \", dim_list)\n",
    "print(\"Dimensione totale contenuto numpy array: \", L_numpy.nbytes)\n",
    "\n",
    "# Per la dimensione del singolo oggetto:\n",
    "print(\"\\nDimensione item lista python: \", sys.getsizeof(L[0]))\n",
    "print(\"Dimensione item numpy array: \", L_numpy.itemsize)"
   ]
  },
  {
   "cell_type": "markdown",
   "metadata": {},
   "source": [
    "Se si prova a creare un array numpy da una lista contenente oggetti di tipo diverso, numpy li converte tutti automaticamente al tipo più grande in grando di inglobarli tutti:"
   ]
  },
  {
   "cell_type": "code",
   "execution_count": null,
   "metadata": {},
   "outputs": [],
   "source": [
    "list_diff_type = [1, \"pippo\", 3.14, \"pluto\"]\n",
    "list_diff_type_numpy = np.array(list_diff_type)\n",
    "\n",
    "print(list_diff_type_numpy)\n",
    "list_diff_type_numpy.dtype"
   ]
  },
  {
   "cell_type": "code",
   "execution_count": null,
   "metadata": {},
   "outputs": [],
   "source": [
    "# Con solo int e float diventa float\n",
    "L_np = np.array([1, 2, 3.14])\n",
    "\n",
    "print(L_np)\n",
    "L_np.dtype"
   ]
  },
  {
   "cell_type": "markdown",
   "metadata": {},
   "source": [
    "### Operazioni & tempo di esecuzione\n",
    "In più, gli array numpy sono ottimizzati per operazioni numeriche. Di seguito qualche esempio."
   ]
  },
  {
   "cell_type": "code",
   "execution_count": null,
   "metadata": {},
   "outputs": [],
   "source": [
    "\n",
    "# per misurare il tempo si usa la libreria time\n",
    "import time\n",
    "size = 1000000\n",
    "list1 = range(size)\n",
    "list2 = range(size)\n",
    " \n",
    "# La funzione di numpy \"arange\" è equivalente al \"range\" di python, con la differenza che crea array numpy come risultato\n",
    "array1 = np.arange(size)\n",
    "array2 = np.arange(size)\n",
    " \n",
    "initialTime = time.time()\n",
    " \n",
    "# Le liste python non hanno le operazioni tra liste già definite\n",
    "# Per moltiplicare elemento per elemento gli elementi di una lista un modo comodo e veloce è questo\n",
    "resultantList = [(a * b) for a, b in zip(list1, list2)]\n",
    " \n",
    "# Calcolo il tempo di esecuzione\n",
    "print(\"Tempo moltiplicazione tra liste python:\", (time.time() - initialTime), \"secondi\")\n",
    "\n",
    "# Tempo iniziale per la moltiplicazione tra array numpy\n",
    "initialTime = time.time()\n",
    " \n",
    "# moltiplicazione tra due array numpy element-wise\n",
    "resultantArray = array1 * array2\n",
    " \n",
    "# Calcolo il tempo di esecuzione\n",
    "print(\"Tempo moltiplicazione tra array numpy:\", (time.time() - initialTime), \"secondi\")"
   ]
  },
  {
   "cell_type": "markdown",
   "metadata": {},
   "source": [
    "## Numpy: generalità\n",
    "In questa sezione vedremo qualche generalità sulla libreria numpy.\n",
    "\n",
    "### Creazione di Numpy array\n",
    "Come visto sopra, si possono creare da liste (o tuple) con la funzione:"
   ]
  },
  {
   "cell_type": "code",
   "execution_count": null,
   "metadata": {},
   "outputs": [],
   "source": [
    "np.array((1, 2, 3))"
   ]
  },
  {
   "cell_type": "markdown",
   "metadata": {},
   "source": [
    "Si può ad esempio anche specificare il tipo dei dati:"
   ]
  },
  {
   "cell_type": "code",
   "execution_count": null,
   "metadata": {},
   "outputs": [],
   "source": [
    "np.array([1, 2, 3], dtype='float32')"
   ]
  },
  {
   "cell_type": "markdown",
   "metadata": {},
   "source": [
    "Sono nativamente multidimensionali (in python si hanno semplicemente liste nestate):"
   ]
  },
  {
   "cell_type": "code",
   "execution_count": null,
   "metadata": {},
   "outputs": [],
   "source": [
    "mat = np.array([range(i, i + 5) for i in [5, 7, 8, 11]])\n",
    "mat"
   ]
  },
  {
   "cell_type": "code",
   "execution_count": null,
   "metadata": {},
   "outputs": [],
   "source": [
    "# Si può anche controllare il numero di dimensioni con l'attributo shape\n",
    "mat.shape"
   ]
  },
  {
   "cell_type": "markdown",
   "metadata": {},
   "source": [
    "Ci sono anche varie funzioni per creare array da 0, senza usare una lista di partenza. Di seguito alcuni esempi, oppportunamente commentati:"
   ]
  },
  {
   "cell_type": "code",
   "execution_count": null,
   "metadata": {},
   "outputs": [],
   "source": [
    "# Crea un array di interi (tutti settati a 0) di lunghezza 10\n",
    "np.zeros(10, dtype=int)"
   ]
  },
  {
   "cell_type": "code",
   "execution_count": null,
   "metadata": {},
   "outputs": [],
   "source": [
    "# Crea un array 4 x 3 di float settati a 1\n",
    "np.ones((4, 3), dtype=float)"
   ]
  },
  {
   "cell_type": "code",
   "execution_count": null,
   "metadata": {},
   "outputs": [],
   "source": [
    "# Allo stesso modo, si può riempire un array con un valore desiderato\n",
    "np.full((3, 5), 3.14)"
   ]
  },
  {
   "cell_type": "code",
   "execution_count": null,
   "metadata": {},
   "outputs": [],
   "source": [
    "# Crea un array riempito con una sequenza che parte da 0, finisce a 20, incremento di 2\n",
    "# (simile alla funzione range())\n",
    "np.arange(0, 20, 2)"
   ]
  },
  {
   "cell_type": "code",
   "execution_count": null,
   "metadata": {},
   "outputs": [],
   "source": [
    "# Crea un array di 5 valori uniformemente distanziati da 0 a 1\n",
    "np.linspace(0, 1, 5)"
   ]
  },
  {
   "cell_type": "code",
   "execution_count": null,
   "metadata": {},
   "outputs": [],
   "source": [
    "# Crea un array 2x2x2 di valori randomici tra 0 e 1 distribuiti uniformemente\n",
    "np.random.random((2, 2, 2))"
   ]
  },
  {
   "cell_type": "code",
   "execution_count": null,
   "metadata": {},
   "outputs": [],
   "source": [
    "# Allo stesso modo, ma con una distribuzione normale con media 0 e dev standard 1\n",
    "np.random.normal(0, 1, (2, 2))"
   ]
  },
  {
   "cell_type": "code",
   "execution_count": null,
   "metadata": {},
   "outputs": [],
   "source": [
    "# Allo stesso modo, se si vogliono estrarre randomicamente valori da un intervallo di interi\n",
    "np.random.randint(0, 10, (3, 3))"
   ]
  },
  {
   "cell_type": "code",
   "execution_count": null,
   "metadata": {},
   "outputs": [],
   "source": [
    "# Per creare la matrice identità\n",
    "np.eye(4)"
   ]
  },
  {
   "cell_type": "code",
   "execution_count": null,
   "metadata": {},
   "outputs": [],
   "source": [
    "# Crea un array non inizializzato di 3 valori\n",
    "# I valori corrispondono a ciò che già si trova nella locazione di memoria che l'array va ad occupare\n",
    "np.empty(3)"
   ]
  },
  {
   "cell_type": "markdown",
   "metadata": {},
   "source": [
    "#### Focus: Tipi\n",
    "Come si è visto, gli elementi dei numpy array possono essere di vari tipi; a ogni tipo è associata una specifica dimensione.\n",
    "I tipi utilizzati sono praticamente in corrispondenza con i tipi nativi di C, dato che la libreria numpy è costruita in C (così come python e il resto delle sue librerie).\n",
    "Di seguito una tabella riassuntiva:\n",
    "| Data type\t    | Description |\n",
    "|---------------|-------------|\n",
    "| ``bool_``     | Boolean (True or False) stored as a byte |\n",
    "| ``int_``      | Default integer type (same as C ``long``; normally either ``int64`` or ``int32``)| \n",
    "| ``intc``      | Identical to C ``int`` (normally ``int32`` or ``int64``)| \n",
    "| ``intp``      | Integer used for indexing (same as C ``ssize_t``; normally either ``int32`` or ``int64``)| \n",
    "| ``int8``      | Byte (-128 to 127)| \n",
    "| ``int16``     | Integer (-32768 to 32767)|\n",
    "| ``int32``     | Integer (-2147483648 to 2147483647)|\n",
    "| ``int64``     | Integer (-9223372036854775808 to 9223372036854775807)| \n",
    "| ``uint8``     | Unsigned integer (0 to 255)| \n",
    "| ``uint16``    | Unsigned integer (0 to 65535)| \n",
    "| ``uint32``    | Unsigned integer (0 to 4294967295)| \n",
    "| ``uint64``    | Unsigned integer (0 to 18446744073709551615)| \n",
    "| ``float_``    | Shorthand for ``float64``.| \n",
    "| ``float16``   | Half precision float: sign bit, 5 bits exponent, 10 bits mantissa| \n",
    "| ``float32``   | Single precision float: sign bit, 8 bits exponent, 23 bits mantissa| \n",
    "| ``float64``   | Double precision float: sign bit, 11 bits exponent, 52 bits mantissa| \n",
    "| ``complex_``  | Shorthand for ``complex128``.| \n",
    "| ``complex64`` | Complex number, represented by two 32-bit floats| \n",
    "| ``complex128``| Complex number, represented by two 64-bit floats| "
   ]
  },
  {
   "cell_type": "markdown",
   "metadata": {},
   "source": [
    "### Manipolazione di Numpy array\n",
    "Iniziamo col dichiarare 3 array di dimensioni diverse che useremo in tutta questa sezione."
   ]
  },
  {
   "cell_type": "code",
   "execution_count": null,
   "metadata": {},
   "outputs": [],
   "source": [
    "np.random.seed(0)  # seed per riprodurre i dati\n",
    "\n",
    "x1 = np.random.randint(10, size=6)  # una dimensione\n",
    "x2 = np.random.randint(10, size=(3, 4))  # due dimensioni\n",
    "x3 = np.random.randint(10, size=(3, 4, 5))  # tre dimensioni"
   ]
  },
  {
   "cell_type": "markdown",
   "metadata": {},
   "source": [
    "Ci sono vari attributi per esplorare le dimensioni di questi array:"
   ]
  },
  {
   "cell_type": "code",
   "execution_count": null,
   "metadata": {},
   "outputs": [],
   "source": [
    "print(\"x3 ndim: \", x3.ndim)\n",
    "print(\"x3 shape:\", x3.shape)\n",
    "print(\"x3 size: \", x3.size)"
   ]
  },
  {
   "cell_type": "markdown",
   "metadata": {},
   "source": [
    "Gli elementi si accedono esattamente come nelle liste python:"
   ]
  },
  {
   "cell_type": "code",
   "execution_count": null,
   "metadata": {},
   "outputs": [],
   "source": [
    "# Singolo indice\n",
    "x1[0]"
   ]
  },
  {
   "cell_type": "code",
   "execution_count": null,
   "metadata": {},
   "outputs": [],
   "source": [
    "# Indici negativi\n",
    "x1[-1]"
   ]
  },
  {
   "cell_type": "markdown",
   "metadata": {},
   "source": [
    "Per gli array multidimensionali, si usa una lista di indici separata da virgole:"
   ]
  },
  {
   "cell_type": "code",
   "execution_count": null,
   "metadata": {},
   "outputs": [],
   "source": [
    "x3[0, 1, 4]"
   ]
  },
  {
   "cell_type": "markdown",
   "metadata": {},
   "source": [
    "Ovviamente gli array hanno tipo fissato, quindi se si prova ad assegnare un tipo diverso (non adattabile) si ha errore:"
   ]
  },
  {
   "cell_type": "code",
   "execution_count": null,
   "metadata": {},
   "outputs": [],
   "source": [
    "x1[0] = \"ciao\""
   ]
  },
  {
   "cell_type": "markdown",
   "metadata": {},
   "source": [
    "Anche per quanto riguarda lo slicing il comportamento è identico a quello delle liste:"
   ]
  },
  {
   "cell_type": "code",
   "execution_count": null,
   "metadata": {},
   "outputs": [],
   "source": [
    "x1[:2]"
   ]
  },
  {
   "cell_type": "code",
   "execution_count": null,
   "metadata": {},
   "outputs": [],
   "source": [
    "# Lo step negativo inverte l'array\n",
    "x1[::-1]"
   ]
  },
  {
   "cell_type": "code",
   "execution_count": null,
   "metadata": {},
   "outputs": [],
   "source": [
    "# Per gli array multidimensionali il ragionamento è uguale\n",
    "x2[:,:2]"
   ]
  },
  {
   "cell_type": "code",
   "execution_count": null,
   "metadata": {},
   "outputs": [],
   "source": [
    "x2[:2, ]"
   ]
  },
  {
   "cell_type": "code",
   "execution_count": null,
   "metadata": {},
   "outputs": [],
   "source": [
    "x2[:, ::-1]"
   ]
  },
  {
   "cell_type": "markdown",
   "metadata": {},
   "source": [
    "#### Focus: slicing e array views\n",
    "Lo slicing ritorna delle *views* degli array di partenza, cioè delle specie di reference agli elementi iniziali. Se Cambiate il valore di una view cambia anche il valore nell'elemento iniziale (similmente a ciò che accade con tutti gli oggetti mutabili in python)"
   ]
  },
  {
   "cell_type": "code",
   "execution_count": null,
   "metadata": {},
   "outputs": [],
   "source": [
    "arr = np.arange(0, 10)"
   ]
  },
  {
   "cell_type": "code",
   "execution_count": null,
   "metadata": {},
   "outputs": [],
   "source": [
    "arr"
   ]
  },
  {
   "cell_type": "code",
   "execution_count": null,
   "metadata": {},
   "outputs": [],
   "source": [
    "sliced = arr[:2]"
   ]
  },
  {
   "cell_type": "code",
   "execution_count": null,
   "metadata": {},
   "outputs": [],
   "source": [
    "sliced"
   ]
  },
  {
   "cell_type": "code",
   "execution_count": null,
   "metadata": {},
   "outputs": [],
   "source": [
    "sliced[0] = 99"
   ]
  },
  {
   "cell_type": "code",
   "execution_count": null,
   "metadata": {},
   "outputs": [],
   "source": [
    "arr"
   ]
  },
  {
   "cell_type": "markdown",
   "metadata": {},
   "source": [
    "Per fare una copia occorre dirlo esplicitamente con la funzione \"copy\":"
   ]
  },
  {
   "cell_type": "code",
   "execution_count": null,
   "metadata": {},
   "outputs": [],
   "source": [
    "arr = np.arange(0, 10)\n",
    "sliced = arr[:2].copy()\n",
    "\n",
    "sliced[0] = 99"
   ]
  },
  {
   "cell_type": "code",
   "execution_count": null,
   "metadata": {},
   "outputs": [],
   "source": [
    "sliced"
   ]
  },
  {
   "cell_type": "code",
   "execution_count": null,
   "metadata": {},
   "outputs": [],
   "source": [
    "arr"
   ]
  },
  {
   "cell_type": "markdown",
   "metadata": {},
   "source": [
    "#### Array multidimensionali: Reshaping\n",
    "\n",
    "Ogni array creato in numpy può essere \"ridistribuito\" su dimensioni diverse, purché la ```size``` dell'array iniziale e del risultato siano uguali. Di seguito alcuni esempi."
   ]
  },
  {
   "cell_type": "code",
   "execution_count": null,
   "metadata": {},
   "outputs": [],
   "source": [
    "grid = np.arange(1, 10).reshape((3, 3))\n",
    "print(grid)"
   ]
  },
  {
   "cell_type": "markdown",
   "metadata": {},
   "source": [
    "Per lasciare che numpy deduca autonomamente una delle due dimensioni, si usa -1:"
   ]
  },
  {
   "cell_type": "code",
   "execution_count": null,
   "metadata": {},
   "outputs": [],
   "source": [
    "grid = np.arange(0, 10)\n",
    "grid.reshape(-1, 5) # 5 colonne, il numero di righe è dedotto da numpy"
   ]
  },
  {
   "cell_type": "markdown",
   "metadata": {},
   "source": [
    "#### Concatenazione e stacking\n",
    "\n",
    "Gli array numpy possono essere facilmente concatenati con la funzione ```concatenate```. Funziona anche con gli array multidimensionali."
   ]
  },
  {
   "cell_type": "code",
   "execution_count": null,
   "metadata": {},
   "outputs": [],
   "source": [
    "x = np.array([1, 2, 3])\n",
    "y = np.array([3, 2, 1])\n",
    "np.concatenate([x, y])"
   ]
  },
  {
   "cell_type": "code",
   "execution_count": null,
   "metadata": {},
   "outputs": [],
   "source": [
    "grid = np.array([[1, 2, 3],\n",
    "                 [4, 5, 6]])\n",
    "np.concatenate([grid, grid])"
   ]
  },
  {
   "cell_type": "markdown",
   "metadata": {},
   "source": [
    "Si può concatenare anche su assi diversi:"
   ]
  },
  {
   "cell_type": "code",
   "execution_count": null,
   "metadata": {},
   "outputs": [],
   "source": [
    "np.concatenate([grid, grid], axis=1)"
   ]
  },
  {
   "cell_type": "markdown",
   "metadata": {},
   "source": [
    "Con array di dimensioni varie, spesso è più chiaro utilizzare le funzioni ```vstack``` (stacking verticale) e ```hstack``` (stacking orizzontale)."
   ]
  },
  {
   "cell_type": "code",
   "execution_count": null,
   "metadata": {},
   "outputs": [],
   "source": [
    "x = np.array([1, 2, 3])\n",
    "grid = np.array([[9, 8, 7],\n",
    "                 [6, 5, 4]])\n",
    "\n",
    "# stack verticale degli array\n",
    "np.vstack([x, grid])"
   ]
  },
  {
   "cell_type": "code",
   "execution_count": null,
   "metadata": {},
   "outputs": [],
   "source": [
    "y = np.array([[99],\n",
    "              [99]])\n",
    "\n",
    "# stacking orizzontale\n",
    "np.hstack([grid, y])"
   ]
  },
  {
   "cell_type": "markdown",
   "metadata": {},
   "source": [
    "L'opposto della concatenazione è lo splitting. Possiamo passare alla funzione split una lista di indici che indicano i punti di splitting."
   ]
  },
  {
   "cell_type": "code",
   "execution_count": null,
   "metadata": {},
   "outputs": [],
   "source": [
    "x = [1, 2, 3, 99, 99, 3, 2, 1]\n",
    "x1, x2, x3 = np.split(x, [3, 5])\n",
    "print(x1, x2, x3)"
   ]
  },
  {
   "cell_type": "markdown",
   "metadata": {},
   "source": [
    "Le funzioni vsplit e hsplit sono simili."
   ]
  },
  {
   "cell_type": "code",
   "execution_count": null,
   "metadata": {},
   "outputs": [],
   "source": [
    "grid = np.arange(16).reshape((4, 4))\n",
    "grid"
   ]
  },
  {
   "cell_type": "code",
   "execution_count": null,
   "metadata": {},
   "outputs": [],
   "source": [
    "upper, lower = np.vsplit(grid, [2])\n",
    "print(upper)\n",
    "print(lower)"
   ]
  },
  {
   "cell_type": "code",
   "execution_count": null,
   "metadata": {},
   "outputs": [],
   "source": [
    "left, right = np.hsplit(grid, [2])\n",
    "print(left)\n",
    "print(right)"
   ]
  },
  {
   "cell_type": "markdown",
   "metadata": {},
   "source": [
    "## Operazioni su Numpy array\n",
    "\n",
    "Come accennato, in numpy sono definite operazioni native elementwise sui numpy array. Di seguito alcuni esempi."
   ]
  },
  {
   "cell_type": "code",
   "execution_count": null,
   "metadata": {},
   "outputs": [],
   "source": [
    "x = np.arange(4)\n",
    "print(\"x     =\", x)\n",
    "print(\"x + 5 =\", x + 5)\n",
    "print(\"x - 5 =\", x - 5)\n",
    "print(\"x * 2 =\", x * 2)\n",
    "print(\"x / 2 =\", x / 2)\n",
    "print(\"x // 2 =\", x // 2)  # floor division"
   ]
  },
  {
   "cell_type": "code",
   "execution_count": null,
   "metadata": {},
   "outputs": [],
   "source": [
    "# Allo stesso modo funzionano la negazione, l'elevamento a potenza e il modulo\n",
    "print(\"-x     = \", -x)\n",
    "print(\"x ** 2 = \", x ** 2)\n",
    "print(\"x % 2  = \", x % 2)"
   ]
  },
  {
   "cell_type": "markdown",
   "metadata": {},
   "source": [
    "Possono essere combinate in qualunque modo, rispettando l'ordine tipico delle operazioni aritmetiche:"
   ]
  },
  {
   "cell_type": "code",
   "execution_count": null,
   "metadata": {},
   "outputs": [],
   "source": [
    "-(0.5*x + 1) ** 2"
   ]
  },
  {
   "cell_type": "markdown",
   "metadata": {},
   "source": [
    "In realtà esse sono semplici wraper di specifiche funzioni numpy. Di seguito una tabella riassuntiva:\n",
    "\n",
    "| Operator\t    | Equivalent ufunc    | Description                           |\n",
    "|---------------|---------------------|---------------------------------------|\n",
    "|``+``          |``np.add``           |Addition (e.g., ``1 + 1 = 2``)         |\n",
    "|``-``          |``np.subtract``      |Subtraction (e.g., ``3 - 2 = 1``)      |\n",
    "|``-``          |``np.negative``      |Unary negation (e.g., ``-2``)          |\n",
    "|``*``          |``np.multiply``      |Multiplication (e.g., ``2 * 3 = 6``)   |\n",
    "|``/``          |``np.divide``        |Division (e.g., ``3 / 2 = 1.5``)       |\n",
    "|``//``         |``np.floor_divide``  |Floor division (e.g., ``3 // 2 = 1``)  |\n",
    "|``**``         |``np.power``         |Exponentiation (e.g., ``2 ** 3 = 8``)  |\n",
    "|``%``          |``np.mod``           |Modulus/remainder (e.g., ``9 % 4 = 1``)|"
   ]
  },
  {
   "cell_type": "markdown",
   "metadata": {},
   "source": [
    "Esattamente come capisce i classici segni aritmetici di python, numpy opera correttamente con la funzione built-in di valore assoluto:"
   ]
  },
  {
   "cell_type": "code",
   "execution_count": null,
   "metadata": {},
   "outputs": [],
   "source": [
    "x = np.array([-2, -1, 0, 1, 2])\n",
    "abs(x)"
   ]
  },
  {
   "cell_type": "code",
   "execution_count": null,
   "metadata": {},
   "outputs": [],
   "source": [
    "# Corrispondente funzione numpy\n",
    "np.absolute(x)"
   ]
  },
  {
   "cell_type": "code",
   "execution_count": null,
   "metadata": {},
   "outputs": [],
   "source": [
    "# Analogo a sopra\n",
    "np.abs(x)"
   ]
  },
  {
   "cell_type": "markdown",
   "metadata": {},
   "source": [
    "Con numeri complessi ritorna semplicemente il modulo:"
   ]
  },
  {
   "cell_type": "code",
   "execution_count": null,
   "metadata": {},
   "outputs": [],
   "source": [
    "x = np.array([3 - 4j, 4 - 3j, 2 + 0j, 1 + 1j])\n",
    "np.abs(x)"
   ]
  },
  {
   "cell_type": "markdown",
   "metadata": {},
   "source": [
    "Allo stesso modo si possono usare le funzioni trigonometriche:"
   ]
  },
  {
   "cell_type": "code",
   "execution_count": null,
   "metadata": {},
   "outputs": [],
   "source": [
    "theta = np.linspace(0, np.pi, 3)\n",
    "print(\"theta      = \", theta)\n",
    "print(\"sin(theta) = \", np.sin(theta))\n",
    "print(\"cos(theta) = \", np.cos(theta))\n",
    "print(\"tan(theta) = \", np.tan(theta))"
   ]
  },
  {
   "cell_type": "code",
   "execution_count": null,
   "metadata": {},
   "outputs": [],
   "source": [
    "# Analogamente per le funzioni inverse\n",
    "x = [-1, 0, 1]\n",
    "print(\"x         = \", x)\n",
    "print(\"arcsin(x) = \", np.arcsin(x))\n",
    "print(\"arccos(x) = \", np.arccos(x))\n",
    "print(\"arctan(x) = \", np.arctan(x))"
   ]
  },
  {
   "cell_type": "markdown",
   "metadata": {},
   "source": [
    "Stesso ragionamento per esponenziali e logaritmi:"
   ]
  },
  {
   "cell_type": "code",
   "execution_count": null,
   "metadata": {},
   "outputs": [],
   "source": [
    "x = [1, 2, 3]\n",
    "print(\"x     =\", x)\n",
    "print(\"e^x   =\", np.exp(x))\n",
    "print(\"2^x   =\", np.exp2(x))\n",
    "print(\"3^x   =\", np.power(3, x))"
   ]
  },
  {
   "cell_type": "code",
   "execution_count": null,
   "metadata": {},
   "outputs": [],
   "source": [
    "x = [1, 2, 4, 10]\n",
    "print(\"x        =\", x)\n",
    "print(\"ln(x)    =\", np.log(x))\n",
    "print(\"log2(x)  =\", np.log2(x))\n",
    "print(\"log10(x) =\", np.log10(x))"
   ]
  },
  {
   "cell_type": "markdown",
   "metadata": {},
   "source": [
    "Per calcoli complessi o quando è necessario, si può salvare il risultato di una specfica operazione direttamente in una variabile definita: in questo modo, il risultato viene salvato esattamente in quella locazione di memoria, senza l'impiego di array intermedi."
   ]
  },
  {
   "cell_type": "code",
   "execution_count": null,
   "metadata": {},
   "outputs": [],
   "source": [
    "x = np.arange(5)\n",
    "y = np.empty(5)\n",
    "np.multiply(x, 10, out=y)\n",
    "print(y)"
   ]
  },
  {
   "cell_type": "markdown",
   "metadata": {},
   "source": [
    "#### Broadcasting\n",
    "Le operazioni di numpy classiche possono beneficiare tutte del broadcasting. Cioè, quando si fa un'operazione tra due array con shape diverse, ma con stessa shape lungo un'asse, l'operazione viene eseguita \"adattando\" (i.e. facendo copie) dell'array più piccolo, fino a raggiungere la dimensione di quello più grande.\n",
    "\n",
    "*Cioè?*\n",
    "Vediamo questo processo in azione:"
   ]
  },
  {
   "cell_type": "code",
   "execution_count": null,
   "metadata": {},
   "outputs": [],
   "source": [
    "x"
   ]
  },
  {
   "cell_type": "code",
   "execution_count": null,
   "metadata": {},
   "outputs": [],
   "source": [
    "x + 2"
   ]
  },
  {
   "cell_type": "markdown",
   "metadata": {},
   "source": [
    "Funziona ugualmente per array multidimensionali"
   ]
  },
  {
   "cell_type": "code",
   "execution_count": null,
   "metadata": {},
   "outputs": [],
   "source": [
    "mat = np.ones((3, 5))\n",
    "mat"
   ]
  },
  {
   "cell_type": "code",
   "execution_count": null,
   "metadata": {},
   "outputs": [],
   "source": [
    "mat + x"
   ]
  },
  {
   "cell_type": "code",
   "execution_count": null,
   "metadata": {},
   "outputs": [],
   "source": [
    "y = x.reshape(-1, 1)\n",
    "y"
   ]
  },
  {
   "cell_type": "code",
   "execution_count": null,
   "metadata": {},
   "outputs": [],
   "source": [
    "x + y"
   ]
  },
  {
   "cell_type": "markdown",
   "metadata": {},
   "source": [
    "### Miscellanea\n",
    "\n",
    "In questa sezione sono riportati alcuni esmpi utili di altre funzioni per manipolare / agire su numpy array."
   ]
  },
  {
   "cell_type": "code",
   "execution_count": null,
   "metadata": {},
   "outputs": [],
   "source": [
    "# Per sommare tra di loro i valori di un array\n",
    "np.sum(x)"
   ]
  },
  {
   "cell_type": "code",
   "execution_count": null,
   "metadata": {},
   "outputs": [],
   "source": [
    "# Per calcolare il minimo\n",
    "np.min(x)"
   ]
  },
  {
   "cell_type": "code",
   "execution_count": null,
   "metadata": {},
   "outputs": [],
   "source": [
    "# Per il massimo\n",
    "np.max(x)"
   ]
  },
  {
   "cell_type": "code",
   "execution_count": null,
   "metadata": {},
   "outputs": [],
   "source": [
    "# Per ottenere l'indice del valore massimo/minimo, le funzioni sono analoghe ma precedute da \"arg\"\n",
    "np.argmin(x)"
   ]
  },
  {
   "cell_type": "code",
   "execution_count": null,
   "metadata": {},
   "outputs": [],
   "source": [
    "np.argmax(x)"
   ]
  },
  {
   "cell_type": "code",
   "execution_count": null,
   "metadata": {},
   "outputs": [],
   "source": [
    "# Spesso le funzioni possono essere chiamate direttamente dagli oggetti ndarray:\n",
    "x.argmin()"
   ]
  },
  {
   "cell_type": "code",
   "execution_count": null,
   "metadata": {},
   "outputs": [],
   "source": [
    "(x+1).max()"
   ]
  },
  {
   "cell_type": "code",
   "execution_count": null,
   "metadata": {},
   "outputs": [],
   "source": [
    "# Un array può essere facilmente ordinato con la funzione sort\n",
    "x = np.random.randint(100, size=10)\n",
    "x"
   ]
  },
  {
   "cell_type": "code",
   "execution_count": null,
   "metadata": {},
   "outputs": [],
   "source": [
    "x.sort()"
   ]
  },
  {
   "cell_type": "code",
   "execution_count": null,
   "metadata": {},
   "outputs": [],
   "source": [
    "x"
   ]
  },
  {
   "cell_type": "code",
   "execution_count": null,
   "metadata": {},
   "outputs": [],
   "source": [
    "# Per ritornare gli indici degli elementi ordinati\n",
    "x = np.random.randint(100, size=10)\n",
    "np.argsort(x)"
   ]
  },
  {
   "cell_type": "code",
   "execution_count": null,
   "metadata": {},
   "outputs": [],
   "source": [
    "x"
   ]
  },
  {
   "cell_type": "code",
   "execution_count": null,
   "metadata": {},
   "outputs": [],
   "source": [
    "# Si può ottenere il trasposto di un array numpy semplicemente usando .T\n",
    "mat = np.arange(10).reshape(-1, 5)\n",
    "mat"
   ]
  },
  {
   "cell_type": "code",
   "execution_count": null,
   "metadata": {},
   "outputs": [],
   "source": [
    "mat.T"
   ]
  },
  {
   "cell_type": "code",
   "execution_count": null,
   "metadata": {},
   "outputs": [],
   "source": [
    "# L'operatore per il prodotto scalare è invece la @\n",
    "x = np.arange(10)\n",
    "y = np.arange(10) + 5"
   ]
  },
  {
   "cell_type": "code",
   "execution_count": null,
   "metadata": {},
   "outputs": [],
   "source": [
    "x @ y"
   ]
  },
  {
   "cell_type": "markdown",
   "metadata": {},
   "source": [
    "# Esercizi\n",
    "\n",
    "### Esercizio 1\n",
    "Scrivere una funzione che restituisca il prodotto riga per colonna di due vettori v1 e v2. Utilizzare in primis una list comprehension, verificando anche che la lunghezza dei due vettori sia coerente. Valutare inoltre il tempo necessario all'esecuzione utilizzando la libreria time.\n",
    "\n",
    "Effettuare la stessa operazione in NumPy, valutando contestualmente il tempo necessario in entrambi i casi.\n",
    "\n",
    "\n",
    "### Esercizio 2\n",
    "Scrivere la funzione descrivi(array) che permette di descrivere un array in termini non parametrici, individuando mediana, deviazione standard e range interquartile (ovvero tra il 25-percentile ed il 75-percentile)."
   ]
  },
  {
   "cell_type": "code",
   "execution_count": null,
   "metadata": {},
   "outputs": [],
   "source": []
  }
 ],
 "metadata": {
  "kernelspec": {
   "display_name": "lab",
   "language": "python",
   "name": "python3"
  },
  "language_info": {
   "codemirror_mode": {
    "name": "ipython",
    "version": 3
   },
   "file_extension": ".py",
   "mimetype": "text/x-python",
   "name": "python",
   "nbconvert_exporter": "python",
   "pygments_lexer": "ipython3",
   "version": "3.10.4"
  }
 },
 "nbformat": 4,
 "nbformat_minor": 2
}
