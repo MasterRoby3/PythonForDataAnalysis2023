{
 "cells": [
  {
   "cell_type": "markdown",
   "metadata": {},
   "source": [
    "# Scipy\n",
    "SciPy (Scientific Python) è una libreria per la computazione scientifica costruita su NumPy (quindi tutte le strutture dati di NumPy possono essere usate con metodi di SciPy). Contiene varie funzioni per ottimizzazione, statistica e signal processing.\n",
    "\n",
    "È molto diffusa e utilizzata perché contiene parecchie funzioni per l'ottimizzazione e il data fitting estremamente facili e intuitive da utilizzare, come vedremo più avanti.\n",
    "\n",
    "*Curiosità: è stata creata dallo stesso creatore di NumPy.*"
   ]
  },
  {
   "cell_type": "markdown",
   "metadata": {},
   "source": [
    "Come prima cosa importiamo SciPy e altre librerie che potrebbero tornare utili:"
   ]
  },
  {
   "cell_type": "code",
   "execution_count": null,
   "metadata": {},
   "outputs": [],
   "source": [
    "import scipy as sp\n",
    "import numpy as np\n",
    "import matplotlib.pyplot as plt\n",
    "\n",
    "sp.__version__"
   ]
  },
  {
   "cell_type": "markdown",
   "metadata": {},
   "source": [
    "Per quanto riguarda la documentazione, il discorso è analogo alle altre librerie:"
   ]
  },
  {
   "cell_type": "code",
   "execution_count": null,
   "metadata": {},
   "outputs": [],
   "source": [
    "sp.optimize?"
   ]
  },
  {
   "cell_type": "markdown",
   "metadata": {},
   "source": [
    "Nelle prossime sezioni vedremo i moduli e le funzioni principali di SciPy."
   ]
  },
  {
   "cell_type": "markdown",
   "metadata": {},
   "source": [
    "## Scipy Constants\n",
    "\n",
    "Questo modulo contiene molto semplicemente le costanti scientifiche più utilizzate e varie unità di misura.\n",
    "\n",
    "Per visualizzare un elenco di tutte le costanti presenti nel modulo:"
   ]
  },
  {
   "cell_type": "code",
   "execution_count": null,
   "metadata": {},
   "outputs": [],
   "source": [
    "sp.constants.find()"
   ]
  },
  {
   "cell_type": "markdown",
   "metadata": {},
   "source": [
    "Si utilizzano utilizzando le chiavi sopra visualizzate con il dizionario ```physical_constants```"
   ]
  },
  {
   "cell_type": "code",
   "execution_count": null,
   "metadata": {},
   "outputs": [],
   "source": [
    "sp.constants.physical_constants['Josephson constant']"
   ]
  },
  {
   "cell_type": "markdown",
   "metadata": {},
   "source": [
    "Per le costanti più utilizzate esistono dei semplici alias, come ad esempio:"
   ]
  },
  {
   "cell_type": "code",
   "execution_count": null,
   "metadata": {},
   "outputs": [],
   "source": [
    "sp.constants.c"
   ]
  },
  {
   "cell_type": "markdown",
   "metadata": {},
   "source": [
    "Inoltre sono già definite moltissime unità di misura, ad esempio:"
   ]
  },
  {
   "cell_type": "code",
   "execution_count": null,
   "metadata": {},
   "outputs": [],
   "source": [
    "# Il valore che si ottiene è riferito all'unità di misura nel sistema internazionale, in questo caso il metro\n",
    "sp.constants.yard"
   ]
  },
  {
   "cell_type": "markdown",
   "metadata": {},
   "source": [
    "Per visualizzare una lista di questi alias si può semplicemente fare:"
   ]
  },
  {
   "cell_type": "code",
   "execution_count": null,
   "metadata": {},
   "outputs": [],
   "source": [
    "dir(sp.constants)"
   ]
  },
  {
   "cell_type": "markdown",
   "metadata": {},
   "source": [
    "## SciPy & Sparse Data\n",
    "Per *sparse data* si intende un insieme di dati che ha per di più elementi non utilizzati (i.e. elementi che non trasmettono nessuna informazione).\n",
    "\n",
    "Come per esempio array del tipo ```[1, 0, 2, 0, 0, 3, 0, 0, 0, 0, 0, 0]```, dove gli ```0``` non esprimono nessuna informazione in particolare.\n",
    "\n",
    "In analisi dei dati e machine learning spesso ci si può trovare a lavorare con dati sparsi, quindi SciPy fornisce il pacchetto ```sparse```, che implementa alcuni metodi per gestire in maniera più efficiente e agevole dati sparsi.\n",
    "\n",
    "Il metodo di seguito permette di creare una matrice CSR (Compressed Sparse Row) a partire da un array:"
   ]
  },
  {
   "cell_type": "code",
   "execution_count": null,
   "metadata": {},
   "outputs": [],
   "source": [
    "arr = np.array([0, 0, 0, 0, 0, 1, 1, 0, 2])\n",
    "\n",
    "csr = sp.sparse.csr_matrix(arr)\n",
    "csr"
   ]
  },
  {
   "cell_type": "markdown",
   "metadata": {},
   "source": [
    "Come si può vedere l'oggetto restituito è un wrapper scipy di una matrice sparsa: questo serve proprio per velocizzare delle operazioni quando si usano le funzioni apposite di scipy. Infatti:"
   ]
  },
  {
   "cell_type": "code",
   "execution_count": null,
   "metadata": {},
   "outputs": [],
   "source": [
    "type(csr)"
   ]
  },
  {
   "cell_type": "markdown",
   "metadata": {},
   "source": [
    "Per stamparla bisogna fare esplicitamente il ```print``` (è stato fato l'*override* della funzione print):"
   ]
  },
  {
   "cell_type": "code",
   "execution_count": null,
   "metadata": {},
   "outputs": [],
   "source": [
    "print(csr)"
   ]
  },
  {
   "cell_type": "markdown",
   "metadata": {},
   "source": [
    "Questa rappresentazione vuol dire:\n",
    "* l'oggetto n. 1 è alla riga 0 in posizione 5 e ha valore 1\n",
    "* l'oggetto n. 2 è alla riga 0 in posizione 6 e ha valore 1\n",
    "* l'oggetto n. 3 è alla riga 0 in posizione 8 e ha valore 2\n",
    "\n",
    "Per rappresentare i dati omettendo gli zeri:\n"
   ]
  },
  {
   "cell_type": "code",
   "execution_count": null,
   "metadata": {},
   "outputs": [],
   "source": [
    "csr.data"
   ]
  },
  {
   "cell_type": "markdown",
   "metadata": {},
   "source": [
    "Per contare gli elementi diversi da zero:"
   ]
  },
  {
   "cell_type": "code",
   "execution_count": null,
   "metadata": {},
   "outputs": [],
   "source": [
    "csr.count_nonzero()"
   ]
  },
  {
   "cell_type": "markdown",
   "metadata": {},
   "source": [
    "Per cambiare la rappresentazione da CSR a CSC (Compressed Sparse Column):\n"
   ]
  },
  {
   "cell_type": "code",
   "execution_count": null,
   "metadata": {},
   "outputs": [],
   "source": [
    "arr = np.array([[0, 0, 0], [0, 0, 1], [1, 0, 2]])\n",
    "\n",
    "csr = sp.sparse.csr_matrix(arr)\n",
    "print(csr)"
   ]
  },
  {
   "cell_type": "code",
   "execution_count": null,
   "metadata": {},
   "outputs": [],
   "source": [
    "csc = csr.tocsc()\n",
    "type(csc)"
   ]
  },
  {
   "cell_type": "code",
   "execution_count": null,
   "metadata": {},
   "outputs": [],
   "source": [
    "print(csc)"
   ]
  },
  {
   "cell_type": "markdown",
   "metadata": {},
   "source": [
    "## SciPy Graphs\n",
    "\n",
    "In SciPy esiste anche un sottomodulo di ```sparse``` che permette di lavorare agevolemnte con i grafi. Tutte le operazioni vengono fatte fornendo la matrice di adiacenza del grafo, che deve essere nota a priori.\n",
    "\n",
    "Si consideri il grafico dato dalla matrice di adiacenza:\n",
    "$$\n",
    "\\left(\\begin{array}{ccc} \n",
    "0 & 1 & 2 & 1\\\\\n",
    "1 & 0 & 1 & 1\\\\\n",
    "2 & 1 & 0 & 0\\\\\n",
    "1 & 1 & 0 & 0\\\\\n",
    "\\end{array}\\right)\n",
    "$$ \n",
    "\n",
    "Che corrisponde al grafo:"
   ]
  },
  {
   "cell_type": "code",
   "execution_count": null,
   "metadata": {},
   "outputs": [],
   "source": [
    "adjacency_matrix = np.array([\n",
    "  [0, 1, 2, 1],\n",
    "  [1, 0, 1, 1],\n",
    "  [2, 1, 0, 0],\n",
    "  [1, 1, 0, 0]\n",
    "])\n",
    "\n",
    "# Il codice seguente serve solo a creare una visualizzazione del grafo\n",
    "\n",
    "import networkx as nx\n",
    "# Create a graph from the adjacency matrix\n",
    "G = nx.from_numpy_array(adjacency_matrix)\n",
    "\n",
    "# Extract edge weights\n",
    "edge_labels = {(i, j): G[i][j]['weight'] for i, j in G.edges() if 'weight' in G[i][j]}\n",
    "\n",
    "# Draw the graph\n",
    "pos = nx.spring_layout(G)  # you can choose different layout algorithms\n",
    "nx.draw(G, pos, with_labels=True, font_weight='bold', node_size=700, node_color='skyblue', font_color='black', font_size=12)\n",
    "nx.draw_networkx_edge_labels(G, pos, edge_labels=edge_labels, font_size=12);"
   ]
  },
  {
   "cell_type": "markdown",
   "metadata": {},
   "source": [
    "Si può esprimere ad esempio la matrice di adiacenza come matrice csr per poi effettuare delle operazioni. Di seguito alcuni esempi."
   ]
  },
  {
   "cell_type": "code",
   "execution_count": null,
   "metadata": {},
   "outputs": [],
   "source": [
    "csr_graph = sp.sparse.csr_matrix(adjacency_matrix)\n",
    "\n",
    "# Per ottenere le componenti connesse:\n",
    "sp.sparse.csgraph.connected_components(csr_graph)"
   ]
  },
  {
   "cell_type": "code",
   "execution_count": null,
   "metadata": {},
   "outputs": [],
   "source": [
    "# Per trovare il cammino minimo da un elemento all'altro con l'algoritmo di Dijkstra\n",
    "sp.sparse.csgraph.dijkstra(csr_graph)\n"
   ]
  },
  {
   "cell_type": "code",
   "execution_count": null,
   "metadata": {},
   "outputs": [],
   "source": [
    "# Analogo a prima, ma con l'algoritmo di Floyd Warshall\n",
    "sp.sparse.csgraph.floyd_warshall(csr_graph)"
   ]
  },
  {
   "cell_type": "markdown",
   "metadata": {},
   "source": [
    "## Scipy Spatial Data\n",
    "Per tutti i problemi di tipo spaziale (es. determinare se un punto è interno rispetto a un particolare bordo) SciPy fornisce il modulo ```spatial```.\n",
    "\n",
    "Di seguito alcuni esempi."
   ]
  },
  {
   "cell_type": "markdown",
   "metadata": {},
   "source": [
    "Per effettuare la triangolazione di un poligono avente per vertici un set di punti dati:"
   ]
  },
  {
   "cell_type": "code",
   "execution_count": null,
   "metadata": {},
   "outputs": [],
   "source": [
    "points = np.array([\n",
    "  [2, 4],\n",
    "  [3, 4],\n",
    "  [3, 0],\n",
    "  [2, 2],\n",
    "  [4, 1]\n",
    "])\n",
    "\n",
    "simplices = sp.spatial.Delaunay(points).simplices\n",
    "\n",
    "plt.triplot(points[:, 0], points[:, 1], simplices)\n",
    "plt.scatter(points[:, 0], points[:, 1], color='r')"
   ]
  },
  {
   "cell_type": "markdown",
   "metadata": {},
   "source": [
    "Per trovare il più piccolo poligono che copra una serie di punti:"
   ]
  },
  {
   "cell_type": "code",
   "execution_count": null,
   "metadata": {},
   "outputs": [],
   "source": [
    "points = np.array([\n",
    "  [2, 4],\n",
    "  [3, 4],\n",
    "  [3, 0],\n",
    "  [2, 2],\n",
    "  [4, 1],\n",
    "  [1, 2],\n",
    "  [5, 0],\n",
    "  [3, 1],\n",
    "  [1, 2],\n",
    "  [0, 2]\n",
    "])\n",
    "\n",
    "hull = sp.spatial.ConvexHull(points)\n",
    "hull_points = hull.simplices\n",
    "\n",
    "plt.scatter(points[:,0], points[:,1])\n",
    "for simplex in hull_points:\n",
    "  plt.plot(points[simplex,0], points[simplex,1], 'k-')"
   ]
  },
  {
   "cell_type": "markdown",
   "metadata": {},
   "source": [
    "Per problemi di nearest neighbour:"
   ]
  },
  {
   "cell_type": "code",
   "execution_count": null,
   "metadata": {},
   "outputs": [],
   "source": [
    "points = [(1, -1), (1, 0), (2, 3), (-2, 3), (2, -3)]\n",
    "\n",
    "kdtree = sp.spatial.KDTree(points)\n",
    "\n",
    "res = kdtree.query((1, 1))\n",
    "\n",
    "# Il risultato ha la forma (distanza, indice del punto più vicino)\n",
    "res"
   ]
  },
  {
   "cell_type": "markdown",
   "metadata": {},
   "source": [
    "Infine, in questo modulo esistono parecchie metriche per calcolare la distanza. Di seguito qualche esempio:"
   ]
  },
  {
   "cell_type": "code",
   "execution_count": null,
   "metadata": {},
   "outputs": [],
   "source": [
    "p1 = (1, 0)\n",
    "p2 = (10, 2)\n",
    "\n",
    "# Distanza euclidea\n",
    "sp.spatial.distance.euclidean(p1, p2)"
   ]
  },
  {
   "cell_type": "code",
   "execution_count": null,
   "metadata": {},
   "outputs": [],
   "source": [
    "# Distanza Cityblock (Manhattan Distance)\n",
    "sp.spatial.distance.cityblock(p1, p2)"
   ]
  },
  {
   "cell_type": "code",
   "execution_count": null,
   "metadata": {},
   "outputs": [],
   "source": [
    "# Distanza coseno\n",
    "sp.spatial.distance.cosine(p1, p2)"
   ]
  },
  {
   "cell_type": "code",
   "execution_count": null,
   "metadata": {},
   "outputs": [],
   "source": [
    "# Distanza di Hamming (frazione di bit che sono diversi)\n",
    "\n",
    "p1 = (True, False, True)\n",
    "p2 = (False, True, True)\n",
    "\n",
    "sp.spatial.distance.hamming(p1, p2)"
   ]
  },
  {
   "cell_type": "markdown",
   "metadata": {},
   "source": [
    "## SciPy Interpolation\n",
    "\n",
    "In SciPy sono anche presenti numerosi metodi per fare interpolazione di punti nel modulo ```interpolate```.\n",
    "\n",
    "Ad esempio, per fare interpolazioni in una dimensione, si usa ```interp1d```, che prende una serie di punti con valori x e y e ritorna una *callable function* che può essere chiamata con i nuovi x e ritorna i nuovi y"
   ]
  },
  {
   "cell_type": "code",
   "execution_count": null,
   "metadata": {},
   "outputs": [],
   "source": [
    "xs = np.arange(10)\n",
    "ys = 2*xs + 1\n",
    "\n",
    "interp_func = sp.interpolate.interp1d(xs, ys)\n",
    "\n",
    "new_x = np.arange(2.1, 3, 0.1)\n",
    "new_y = interp_func(new_x)\n",
    "\n",
    "plt.plot(xs, ys, 'o', label=\"Originali\")\n",
    "plt.plot(new_x, new_y, 'o', label=\"Interpolati\")\n",
    "\n",
    "plt.legend();"
   ]
  },
  {
   "cell_type": "markdown",
   "metadata": {},
   "source": [
    "Esistono vari tipi di interpolazione: un altro esempio che si riporta è quello della *spline interpolation*, dove a differenza dell'interpolazione classica che fitta un polinomio di altro grado su tutti i punti, qui vengono fittati polinomi di basso grado su dei subset di punti. Di seguito un esempio:"
   ]
  },
  {
   "cell_type": "code",
   "execution_count": null,
   "metadata": {},
   "outputs": [],
   "source": [
    "xs = np.arange(10)\n",
    "ys = xs**2 + np.sin(xs) + 1\n",
    "\n",
    "interp_func = sp.interpolate.UnivariateSpline(xs, ys)\n",
    "\n",
    "new_x = np.arange(2.1, 3, 0.1)\n",
    "new_y = interp_func(new_x)\n",
    "\n",
    "plt.plot(xs, ys, 'o', label=\"Originali\")\n",
    "plt.plot(new_x, new_y, 'o', label=\"Interpolati\")\n",
    "\n",
    "plt.legend();"
   ]
  },
  {
   "cell_type": "markdown",
   "metadata": {},
   "source": [
    "## SciPy Optimizers\n",
    "\n",
    "Il modulo ```scipy.optimize``` contiene varie funzioni utili a trovare le soluzioni di un'equazione o il minimo di una funzione. Di seguito qualche esempio di utilizzo.\n",
    "\n",
    "### Soluzioni di equazioni\n",
    "\n",
    "SciPy può trovare agevolmente soluzioni di equazioni anche non lineari con la funzione ```root``` del pacchetto ```optimize```. Si utilizza una funzione python per rappresentare l'equazione da risolvere e si passa una guess iniziale per la radice dell'equazione. Di seguito un semplice esempio:"
   ]
  },
  {
   "cell_type": "code",
   "execution_count": null,
   "metadata": {},
   "outputs": [],
   "source": [
    "def eqn(x):\n",
    "  return x + np.cos(x)\n",
    "\n",
    "myroot = sp.optimize.root(eqn, 0)\n",
    "\n",
    "myroot"
   ]
  },
  {
   "cell_type": "markdown",
   "metadata": {},
   "source": [
    "Come si vede l'oggetto ritornato ha vari attributi. La soluzione è contenuta nell'attributo ```x```:"
   ]
  },
  {
   "cell_type": "code",
   "execution_count": null,
   "metadata": {},
   "outputs": [],
   "source": [
    "myroot.x"
   ]
  },
  {
   "cell_type": "markdown",
   "metadata": {},
   "source": [
    "Possono essere usati diversi solver per trovare le radici di un'equazione. Trattarli singolarmente va oltre lo scopo di questo corso, ma potete approfondire guardando la [documentazione](https://docs.scipy.org/doc/scipy/reference/generated/scipy.optimize.root.html)."
   ]
  },
  {
   "cell_type": "markdown",
   "metadata": {},
   "source": [
    "### Minimizzazione di funzioni\n",
    "\n",
    "Per minimizzare una funzione si può utilizzare la funzione ```minimize()```. Similmente a prima, gli argomenti obbligatori sono una funzione python che descriva la funzione da minimizzare e una guess.\n",
    "\n",
    "Anche per questo metodo sono presenti diversi solver, per maggiori dettagli visitare la [documentazione](https://docs.scipy.org/doc/scipy/reference/generated/scipy.optimize.minimize.html)."
   ]
  },
  {
   "cell_type": "code",
   "execution_count": null,
   "metadata": {},
   "outputs": [],
   "source": [
    "def eqn(x):\n",
    "  return x**2 + x + 2\n",
    "\n",
    "mymin = sp.optimize.minimize(eqn, 0)\n",
    "\n",
    "mymin"
   ]
  },
  {
   "cell_type": "markdown",
   "metadata": {},
   "source": [
    "##### Approfondimento: Callback function\n",
    "\n",
    "Entrambi i metodi visti fino ad ora supportano una funzione di callback che venga eseguita dopo ogni iterazione del processo di ottimizzazione. La funzione di callback deve avere la signature ```callback(OptimizeResult: intermediate_result)```, dove ```intermediate_result``` rappresenta il risultato intermedio del processo di ottimizzazione. Di seguito un esempio che stampa il risultato intermedio dopo ogni iterazione."
   ]
  },
  {
   "cell_type": "code",
   "execution_count": null,
   "metadata": {},
   "outputs": [],
   "source": [
    "mymin = sp.optimize.minimize(eqn, 0, callback=lambda intermediate_result : print(intermediate_result))"
   ]
  },
  {
   "cell_type": "code",
   "execution_count": null,
   "metadata": {},
   "outputs": [],
   "source": [
    "# Si verifica facilmente che il risultato effettivamente si è ottenuto in due iterazioni controllando l'attributo nit\n",
    "mymin"
   ]
  },
  {
   "cell_type": "markdown",
   "metadata": {},
   "source": [
    "### Fitting di curve\n",
    "L'applicazione per cui forse SciPy è più utile in fisica (e non solo) è proprio per il fitting di vari tipi di dati.\n",
    "\n",
    "Si supponga di avere il seguente set di dati:"
   ]
  },
  {
   "cell_type": "code",
   "execution_count": null,
   "metadata": {},
   "outputs": [],
   "source": [
    "# colors for plots\n",
    "colors = ['#c3121e', '#0348a1', '#ffb01c', '#027608', '#0193b0', '#9c5300', '#949c01', '#7104b5']"
   ]
  },
  {
   "cell_type": "code",
   "execution_count": null,
   "metadata": {},
   "outputs": [],
   "source": [
    "xdata = np.array([ -10.0, -9.0, -8.0, -7.0, -6.0, -5.0, -4.0, -3.0, -2.0, -1.0, 0.0, 1.0, 2.0, 3.0, 4.0, 5.0, 6.0, 7.0, 8.0, 9.0, 10.0])\n",
    "ydata = np.array([1.2, 4.2, 6.7, 8.3, 10.6, 11.7, 13.5, 14.5, 15.7, 16.1, 16.6, 16.0, 15.4, 14.4, 14.2, 12.7, 10.3, 8.6, 6.1, 3.9, 2.1])\n",
    "plt.plot(xdata, ydata, 'o', color=colors[0], label=\"Data Points\")\n",
    "\n",
    "plt.xlim(-11, 11)\n",
    "plt.ylim(0, 18)\n",
    "\n",
    "plt.legend()\n",
    "\n",
    "plt.grid(True);"
   ]
  },
  {
   "cell_type": "markdown",
   "metadata": {},
   "source": [
    "Come si può intuire questi dati possono essere approssimati da vari tipi di funzioni. Come primo tentativo proviamo una parabola:"
   ]
  },
  {
   "cell_type": "code",
   "execution_count": null,
   "metadata": {},
   "outputs": [],
   "source": [
    "# funzione per il fit\n",
    "def parab(x, a, b, c):\n",
    "    return a * x**2 + b * x + c\n",
    "\n",
    "popt, pcov = sp.optimize.curve_fit(parab, xdata, ydata)\n",
    "\n",
    "a = popt[0]\n",
    "b = popt[1]\n",
    "c = popt[2]\n",
    "\n",
    "print(a, b, c)"
   ]
  },
  {
   "cell_type": "markdown",
   "metadata": {},
   "source": [
    "La variabile ```pcov``` contiene la matrice di covarianza dei parametri fittati:"
   ]
  },
  {
   "cell_type": "code",
   "execution_count": null,
   "metadata": {},
   "outputs": [],
   "source": [
    "pcov"
   ]
  },
  {
   "cell_type": "markdown",
   "metadata": {},
   "source": [
    "Possiamo ottenere lo standard error e la deviazione standard dalla matrice e plottare i risultati:"
   ]
  },
  {
   "cell_type": "code",
   "execution_count": null,
   "metadata": {},
   "outputs": [],
   "source": [
    "std_error = np.sqrt(np.diag(pcov))\n",
    "ndata = len(xdata)\n",
    "sigma = np.sqrt(ndata * np.diag(pcov))\n",
    "\n",
    "print(\"a =\", a, \"+/-\", sigma[0])\n",
    "print(\"b =\", b, \"+/-\", sigma[1])\n",
    "print(\"c =\", c, \"+/-\", sigma[2])"
   ]
  },
  {
   "cell_type": "markdown",
   "metadata": {},
   "source": [
    "Per valutare la bontà del fit, possiamo molto semplicemente definire una funzione che valuti l'R<sup>2</sup>."
   ]
  },
  {
   "cell_type": "code",
   "execution_count": null,
   "metadata": {},
   "outputs": [],
   "source": [
    "def R_squared(x, y, func, *params):\n",
    "    res = y - func(x, *params)\n",
    "    ss_res = np.sum(res**2)\n",
    "    ss_tot = np.sum((y - np.mean(y))**2)\n",
    "    r_squared = 1 - (ss_res/ss_tot)\n",
    "    return r_squared\n",
    "\n",
    "R2 = R_squared(xdata, ydata, parab, *popt)\n",
    "R2"
   ]
  },
  {
   "cell_type": "markdown",
   "metadata": {},
   "source": [
    "Infine plottiamo i risultati:"
   ]
  },
  {
   "cell_type": "code",
   "execution_count": null,
   "metadata": {},
   "outputs": [],
   "source": [
    "plt.plot(xdata, ydata, 'o', color=colors[0], label=\"Data Points\")\n",
    "\n",
    "x_fit = np.linspace(xdata[0], xdata[-1], 2000)\n",
    "plt.plot(x_fit, parab(x_fit, *popt), '-', color=colors[1], label=f\"Fit $R^2$ = {R2:.5f}\")\n",
    "\n",
    "plt.xlim(-11, 11)\n",
    "plt.ylim(0, 18)\n",
    "\n",
    "plt.legend()\n",
    "\n",
    "plt.grid(True);"
   ]
  },
  {
   "cell_type": "markdown",
   "metadata": {},
   "source": [
    "Allo stesso modo si può seguire la stessa procedura per fittare i dati con una gaussiana:"
   ]
  },
  {
   "cell_type": "code",
   "execution_count": null,
   "metadata": {},
   "outputs": [],
   "source": [
    "def gauss(x, A, B):\n",
    "    y = A*np.exp(-1 * B * x**2)\n",
    "    return y\n",
    "\n",
    "popt, pcov = sp.optimize.curve_fit(gauss, xdata, ydata)\n",
    "sigma = np.sqrt(ndata * np.diag(pcov))\n",
    "\n",
    "R2 = R_squared(xdata, ydata, gauss, *popt)\n",
    "\n",
    "print(f\"A = {popt[0]} +/- {sigma[0]}\")\n",
    "print(f\"B = {popt[1]} +/- {sigma[1]}\")\n",
    "print(f\"R^2 = {R2}\")"
   ]
  },
  {
   "cell_type": "code",
   "execution_count": null,
   "metadata": {},
   "outputs": [],
   "source": [
    "# Plottiamo il risultato\n",
    "plt.plot(xdata, ydata, 'o', color=colors[0], label=\"Data Points\")\n",
    "\n",
    "x_fit = np.linspace(xdata[0], xdata[-1], 2000)\n",
    "plt.plot(x_fit, gauss(x_fit, *popt), '-', color=colors[1], label=f\"Fit gauss $R^2$ = {R2:.5f}\")\n",
    "\n",
    "plt.xlim(-11, 11)\n",
    "plt.ylim(0, 18)\n",
    "\n",
    "plt.legend()\n",
    "\n",
    "plt.grid(True);"
   ]
  },
  {
   "cell_type": "markdown",
   "metadata": {},
   "source": [
    "Si può provare allo stesso modo con la funzione coseno:"
   ]
  },
  {
   "cell_type": "code",
   "execution_count": null,
   "metadata": {},
   "outputs": [],
   "source": [
    "def cos_func(x, D, E):\n",
    "    y = D*np.cos(E*x)\n",
    "    return y\n",
    "\n",
    "popt, pcov = sp.optimize.curve_fit(cos_func, xdata, ydata)\n",
    "sigma = np.sqrt(ndata * np.diag(pcov))\n",
    "\n",
    "R2 = R_squared(xdata, ydata, cos_func, *popt)\n",
    "\n",
    "print(f\"D = {popt[0]} +/- {sigma[0]}\")\n",
    "print(f\"E = {popt[1]} +/- {sigma[1]}\")\n",
    "print(f\"R^2 = {R2}\")"
   ]
  },
  {
   "cell_type": "markdown",
   "metadata": {},
   "source": [
    "Il risultato è molto brutto. Proviamo a capire che cosa sta succedendo:"
   ]
  },
  {
   "cell_type": "code",
   "execution_count": null,
   "metadata": {},
   "outputs": [],
   "source": [
    "plt.plot(xdata, ydata, 'o', color=colors[0], label=\"Data Points\")\n",
    "\n",
    "x_fit = np.linspace(xdata[0], xdata[-1], 2000)\n",
    "plt.plot(x_fit, cos_func(x_fit, *popt), '-', color=colors[1], label=f\"Fit cos $R^2$ = {R2:.5f}\")\n",
    "\n",
    "plt.xlim(-11, 11)\n",
    "plt.ylim(0, 18)\n",
    "\n",
    "plt.legend()\n",
    "\n",
    "plt.grid(True);"
   ]
  },
  {
   "cell_type": "markdown",
   "metadata": {},
   "source": [
    "La procedura di ottimizzazione non riesce a convergere. Proviamo a fornire delle guess iniziali al fit e vediamo se la situazione migliora:"
   ]
  },
  {
   "cell_type": "code",
   "execution_count": null,
   "metadata": {},
   "outputs": [],
   "source": [
    "guess = [16, 0.1]\n",
    "popt, pcov = sp.optimize.curve_fit(cos_func, xdata, ydata, p0=guess)\n",
    "sigma = np.sqrt(ndata * np.diag(pcov))\n",
    "\n",
    "R2 = R_squared(xdata, ydata, cos_func, *popt)\n",
    "\n",
    "print(f\"D = {popt[0]} +/- {sigma[0]}\")\n",
    "print(f\"E = {popt[1]} +/- {sigma[1]}\")\n",
    "print(f\"R^2 = {R2}\")"
   ]
  },
  {
   "cell_type": "markdown",
   "metadata": {},
   "source": [
    "Ora il risultato è decisamente migliore. Infatti:"
   ]
  },
  {
   "cell_type": "code",
   "execution_count": null,
   "metadata": {},
   "outputs": [],
   "source": [
    "plt.plot(xdata, ydata, 'o', color=colors[0], label=\"Data Points\")\n",
    "\n",
    "x_fit = np.linspace(xdata[0], xdata[-1], 2000)\n",
    "plt.plot(x_fit, cos_func(x_fit, *popt), '-', color=colors[1], label=f\"Fit cos $R^2$ = {R2:.5f}\")\n",
    "\n",
    "plt.xlim(-11, 11)\n",
    "plt.ylim(0, 18)\n",
    "\n",
    "plt.legend()\n",
    "\n",
    "plt.grid(True);"
   ]
  },
  {
   "cell_type": "markdown",
   "metadata": {},
   "source": [
    "**OSS**: potete anche fornire dei bounds al fit col parametro ```bounds```, ove sia necessario."
   ]
  },
  {
   "cell_type": "markdown",
   "metadata": {},
   "source": [
    "## Esercizi\n",
    "\n",
    "### Esercizio 1\n",
    "Prova a fare un'interpolazione dei dati sopra e osserva cosa cambia rispetto a una funzione fittata.\n",
    "\n",
    "### Esercizio 2\n",
    "Genera 1000 dati da una distribuzione gaussiana con media e deviazione standard anch'esse randomiche e prova a effettuare un fit. Supponi inoltre che l'errore sulla y dei dati sia dato da:\n",
    "$$err_i = \\sqrt{y_i}$$\n",
    "\n",
    "Valuta la bontà del fit con il parametro R<sup>2</sup> e plotta infine i dati."
   ]
  }
 ],
 "metadata": {
  "kernelspec": {
   "display_name": "lab",
   "language": "python",
   "name": "python3"
  },
  "language_info": {
   "codemirror_mode": {
    "name": "ipython",
    "version": 3
   },
   "file_extension": ".py",
   "mimetype": "text/x-python",
   "name": "python",
   "nbconvert_exporter": "python",
   "pygments_lexer": "ipython3",
   "version": "3.10.4"
  }
 },
 "nbformat": 4,
 "nbformat_minor": 2
}
