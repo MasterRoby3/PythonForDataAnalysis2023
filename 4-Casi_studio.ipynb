{
 "cells": [
  {
   "cell_type": "markdown",
   "metadata": {},
   "source": [
    "# Casi di Studio - Final Lesson\n",
    "\n",
    "In questo notebook, per l'ultima lezione di questo crash course sull'analisi dei dati in python, cercheremo di analizzare insieme 2 situazioni (una più generale sul mondo reale, una più fisica), con gli strumenti visti fino ad ora.\n",
    "\n",
    "Di seguito troverete semplicemente una predisposizione dei dataset da utilizzare."
   ]
  },
  {
   "cell_type": "markdown",
   "metadata": {},
   "source": [
    "## Covid\n",
    "Sfruttando i dati resi pubblici dall'ISTAT, cerchiamo di capire quale sia stato l'impatto delle morti covid sulle morti totali confrontando i dati degli ultimi anni con le medie degli anni precedenti.\n",
    "\n",
    "Iniziamo importando le librerie da utilizzare e scaricando i dati sui decessi:"
   ]
  },
  {
   "cell_type": "code",
   "execution_count": 1,
   "metadata": {},
   "outputs": [],
   "source": [
    "import numpy as np\n",
    "import pandas as pd\n",
    "import matplotlib.pyplot as plt"
   ]
  },
  {
   "cell_type": "code",
   "execution_count": 2,
   "metadata": {},
   "outputs": [
    {
     "name": "stdout",
     "output_type": "stream",
     "text": [
      "--2023-12-04 18:24:54--  https://www.istat.it/storage/dati_mortalita/Decessi-comunali-giornalieri-4-16112023.zip\n",
      "Resolving www.istat.it (www.istat.it)... 193.204.90.6\n",
      "Connecting to www.istat.it (www.istat.it)|193.204.90.6|:443... connected.\n",
      "HTTP request sent, awaiting response... 200 OK\n",
      "Length: 39777233 (38M) [application/zip]\n",
      "Saving to: ‘Decessi-comunali-giornalieri-4-16112023.zip.1’\n",
      "\n",
      "Decessi-comunali-gi 100%[===================>]  37.93M  1.39MB/s    in 43s     \n",
      "\n",
      "2023-12-04 18:25:41 (910 KB/s) - ‘Decessi-comunali-giornalieri-4-16112023.zip.1’ saved [39777233/39777233]\n",
      "\n"
     ]
    }
   ],
   "source": [
    "# Link ai dati\n",
    "url=\"https://www.istat.it/storage/dati_mortalita/Decessi-comunali-giornalieri-4-16112023.zip\"\n",
    "\n",
    "!wget $url"
   ]
  },
  {
   "cell_type": "code",
   "execution_count": 4,
   "metadata": {},
   "outputs": [
    {
     "name": "stdout",
     "output_type": "stream",
     "text": [
      "Archive:  Decessi-comunali-giornalieri-4-16112023.zip\n",
      "  inflating: comuni_giornaliero_30settembre23.csv  \n",
      "  inflating: Descrizione e tracciato record dati comunali giornalieri.pdf  \n"
     ]
    }
   ],
   "source": [
    "zipfilename = url.split(\"/\")[-1]\n",
    "!unzip $zipfilename"
   ]
  },
  {
   "cell_type": "code",
   "execution_count": 5,
   "metadata": {},
   "outputs": [
    {
     "data": {
      "text/plain": [
       "'comuni_giornaliero_30settembre23.csv'"
      ]
     },
     "execution_count": 5,
     "metadata": {},
     "output_type": "execute_result"
    }
   ],
   "source": [
    "filename = !ls *csv\n",
    "filename = filename[0]\n",
    "filename"
   ]
  },
  {
   "cell_type": "code",
   "execution_count": 6,
   "metadata": {},
   "outputs": [],
   "source": [
    "# Leggiamo ora il csv con read_csv di pandas\n",
    "df = pd.read_csv(filename, encoding='latin-1')"
   ]
  },
  {
   "cell_type": "code",
   "execution_count": null,
   "metadata": {},
   "outputs": [],
   "source": []
  },
  {
   "cell_type": "markdown",
   "metadata": {},
   "source": [
    "## Raggi Cosmici\n",
    "Similmente a prima, troverete predisposti due dataframe con dei dati acquisiti in laboratorio su cui effettuare le analisi."
   ]
  },
  {
   "cell_type": "code",
   "execution_count": 11,
   "metadata": {},
   "outputs": [],
   "source": [
    "# Questo primo dataset contiene i dati di conteggio in funzione dell'angolo\n",
    "data_counts_angle = pd.read_csv(\"https://github.com/MasterRoby3/Laboratorio_fisica_3_Modulo_2/blob/main/Nucleare_Mod_B/data/counts_angle.csv?raw=true\", delimiter=';')\n",
    "\n",
    "# Questo secondo dataset contiene i dati dei conteggi di misure da 600 secondi\n",
    "data_counts_poisson = pd.read_csv(\"https://github.com/MasterRoby3/Laboratorio_fisica_3_Modulo_2/blob/main/Nucleare_Mod_B/data/counts_poisson.csv?raw=true\", delimiter=';')"
   ]
  },
  {
   "cell_type": "markdown",
   "metadata": {},
   "source": []
  }
 ],
 "metadata": {
  "kernelspec": {
   "display_name": "lab",
   "language": "python",
   "name": "python3"
  },
  "language_info": {
   "codemirror_mode": {
    "name": "ipython",
    "version": 3
   },
   "file_extension": ".py",
   "mimetype": "text/x-python",
   "name": "python",
   "nbconvert_exporter": "python",
   "pygments_lexer": "ipython3",
   "version": "3.10.4"
  }
 },
 "nbformat": 4,
 "nbformat_minor": 2
}
